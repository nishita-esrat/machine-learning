{
 "cells": [
  {
   "cell_type": "code",
   "execution_count": null,
   "id": "79a8973b-8546-485e-a6a6-a6d73c482d36",
   "metadata": {},
   "outputs": [],
   "source": [
    "### IPL 2022 Capstone Project <br>\n",
    "\n",
    "\n",
    "#### The Indian Premier League (IPL) is a professional T20 cricket league in India, featuring franchises representing cities. This project\n",
    "#### explores IPL 2022 match-level data to derive meaningful insights and understand match outcomes, player performances, and team\n",
    "#### dynamics. <br>\n",
    "\n",
    "\n",
    "#### These are some of the important columns that we'll focus on for meaningful insights in this project. <br>\n",
    "\n",
    "#### column names: Variable Type\n",
    "\n",
    "\n",
    "| Field Name           | Data Type \n",
    "|----------------------|-----------\n",
    "| date                 | string    \n",
    "| venue                | string    \n",
    "| stage                | string    \n",
    "| team1                | string    \n",
    "| team2                | string    \n",
    "| toss_winner          | string  \n",
    "| toss_decision        | string    \n",
    "| first_ings_score     | integer  \n",
    "| second_ings_score    | integer   \n",
    "| match_winner         | string    \n",
    "| won_by               | string    \n",
    "| margin               | integer   \n",
    "| player_of_the_match  | string    \n",
    "| top_scorer           | string    \n",
    "| highscore            | integer   | Highest individual score |\n",
    "| best_bowling         | string    | Bowler with best performance |\n",
    "| best_bowling_figure  | string    | Bowling figure (e.g. 4/25) |\n",
    "| gure                 | string    | *(Unclear — please confirm purpose)* |\n",
    "\n"
   ]
  },
  {
   "cell_type": "code",
   "execution_count": null,
   "id": "7b6a8e1f-0183-4abb-8b09-4c98a136a71e",
   "metadata": {},
   "outputs": [],
   "source": []
  }
 ],
 "metadata": {
  "kernelspec": {
   "display_name": "Python 3 (ipykernel)",
   "language": "python",
   "name": "python3"
  },
  "language_info": {
   "codemirror_mode": {
    "name": "ipython",
    "version": 3
   },
   "file_extension": ".py",
   "mimetype": "text/x-python",
   "name": "python",
   "nbconvert_exporter": "python",
   "pygments_lexer": "ipython3",
   "version": "3.11.13"
  }
 },
 "nbformat": 4,
 "nbformat_minor": 5
}
