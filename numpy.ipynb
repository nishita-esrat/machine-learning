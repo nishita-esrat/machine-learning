{
 "cells": [
  {
   "cell_type": "markdown",
   "id": "fc1655ba-c1e7-4806-8d81-45bd4e500551",
   "metadata": {},
   "source": [
    "## first install numpy"
   ]
  },
  {
   "cell_type": "code",
   "execution_count": 1,
   "id": "7098e71b-42d5-45e4-bd20-9eb6cef27d8e",
   "metadata": {},
   "outputs": [
    {
     "name": "stdout",
     "output_type": "stream",
     "text": [
      "Requirement already satisfied: numpy in e:\\machine-learning\\env\\lib\\site-packages (2.2.4)\n"
     ]
    }
   ],
   "source": [
    "!pip install numpy"
   ]
  },
  {
   "cell_type": "code",
   "execution_count": 2,
   "id": "aebe2d5b-c60d-4d1e-998c-c2a423beeee1",
   "metadata": {},
   "outputs": [],
   "source": [
    "import numpy as np"
   ]
  },
  {
   "cell_type": "code",
   "execution_count": 3,
   "id": "a6172a57-f028-4848-b2ba-de50677a5607",
   "metadata": {},
   "outputs": [
    {
     "name": "stdout",
     "output_type": "stream",
     "text": [
      "1D array [1 2 3 4 5]\n",
      "2D array [[1]\n",
      " [2]\n",
      " [3]\n",
      " [4]\n",
      " [5]]\n",
      "3D array [[[1]]\n",
      "\n",
      " [[2]]\n",
      "\n",
      " [[3]]\n",
      "\n",
      " [[4]]\n",
      "\n",
      " [[5]]]\n"
     ]
    }
   ],
   "source": [
    "arr_1D = np.array([1,2,3,4,5])\n",
    "arr_2D = np.array([[1], [2], [3], [4], [5]])\n",
    "arr_3D = np.array([[[1]], [[2]], [[3]], [[4]], [[5]]])\n",
    "print(\"1D array\",arr_1D)\n",
    "print(\"2D array\",arr_2D)\n",
    "print(\"3D array\",arr_3D)"
   ]
  },
  {
   "cell_type": "code",
   "execution_count": null,
   "id": "eb48b50a-3895-45ec-b37f-f9e469336d82",
   "metadata": {},
   "outputs": [],
   "source": []
  }
 ],
 "metadata": {
  "kernelspec": {
   "display_name": "Python 3 (ipykernel)",
   "language": "python",
   "name": "python3"
  },
  "language_info": {
   "codemirror_mode": {
    "name": "ipython",
    "version": 3
   },
   "file_extension": ".py",
   "mimetype": "text/x-python",
   "name": "python",
   "nbconvert_exporter": "python",
   "pygments_lexer": "ipython3",
   "version": "3.11.11"
  }
 },
 "nbformat": 4,
 "nbformat_minor": 5
}
